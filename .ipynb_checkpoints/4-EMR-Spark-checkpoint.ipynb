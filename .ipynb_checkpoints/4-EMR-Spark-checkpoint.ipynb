{
 "cells": [
  {
   "cell_type": "code",
   "execution_count": null,
   "metadata": {},
   "outputs": [],
   "source": [
    "%%local\n",
    "! sm-sparkmagic connect --cluster-id \"j-20CEQGTJ46H49\" --user-name \"ec2-user\""
   ]
  },
  {
   "cell_type": "code",
   "execution_count": null,
   "metadata": {},
   "outputs": [],
   "source": [
    "%%info"
   ]
  },
  {
   "cell_type": "code",
   "execution_count": null,
   "metadata": {},
   "outputs": [],
   "source": [
    "import org.apache.spark.sql.SparkSession\n",
    "import com.amazonaws.services.sagemaker.sparksdk.IAMRole\n",
    "import com.amazonaws.services.sagemaker.sparksdk.algorithms\n",
    "import com.amazonaws.services.sagemaker.sparksdk.algorithms.XGBoostSageMakerEstimator\n",
    "\n",
    "val spark = SparkSession.builder.getOrCreate\n",
    "\n",
    "// load mnist data as a dataframe\n",
    "val region = \"eu-west-1\"\n",
    "val trainingData = spark.read.format(\"csv\").load(s\"s3://sagemaker-eu-west-1-889960878219/automl-ms-file7-sdk-20-20-11-30/transformed-data/dpp0/rpb/train/\")\n",
    "val testData = spark.read.format(\"csv\").load(s\"s3://sagemaker-eu-west-1-889960878219/automl-ms-file7-sdk-20-20-11-30/transformed-data/dpp0/rpb/validation/\")\n",
    "\n",
    "#val roleArn = \"arn:aws:iam::889960878219:role/EMR_Notebooks_DefaultRole\"\n",
    "val roleArn = \"arn:aws:iam::889960878219:role/service-role/AmazonSageMaker-ExecutionRole-20180920T165537\""
   ]
  },
  {
   "cell_type": "code",
   "execution_count": null,
   "metadata": {},
   "outputs": [],
   "source": [
    "val estimator = new XGBoostSageMakerEstimator(\n",
    "    sagemakerRole = IAMRole(roleArn),\n",
    "    trainingInstanceType = \"ml.m5.4xlarge\",\n",
    "    trainingInstanceCount = 1,\n",
    "    endpointInstanceType = \"ml.c4.xlarge\",\n",
    "    endpointInitialInstanceCount = 1,\n",
    "    trainingSparkDataFormat = \"csv\",\n",
    "    trainingContentType = Some(\"csv\")\n",
    ").setNumRound(10)"
   ]
  },
  {
   "cell_type": "code",
   "execution_count": null,
   "metadata": {},
   "outputs": [],
   "source": [
    "// train\n",
    "val model = estimator.fit(trainingData)"
   ]
  },
  {
   "cell_type": "code",
   "execution_count": null,
   "metadata": {},
   "outputs": [],
   "source": [
    "// batch transform\n",
    "val transformedData = model.transform(testData)\n",
    "transformedData.show"
   ]
  }
 ],
 "metadata": {
  "instance_type": "ml.t3.medium",
  "kernelspec": {
   "display_name": "PySpark (SparkMagic)",
   "language": "python",
   "name": "pysparkkernel__SAGEMAKER_INTERNAL__arn:aws:sagemaker:eu-west-1:470317259841:image/sparkmagic-1.0"
  },
  "language_info": {
   "codemirror_mode": {
    "name": "python",
    "version": 3
   },
   "file_extension": ".py",
   "mimetype": "text/x-python",
   "name": "pyspark",
   "pygments_lexer": "python3"
  }
 },
 "nbformat": 4,
 "nbformat_minor": 4
}
