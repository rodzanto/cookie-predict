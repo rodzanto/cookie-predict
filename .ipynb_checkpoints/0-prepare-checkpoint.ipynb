{
 "cells": [
  {
   "cell_type": "markdown",
   "metadata": {},
   "source": [
    "## **Preparation steps**\n",
    "\n",
    "### **1. Creating a new Amazon SageMaker Studio profile**\n",
    "\n",
    "First, onboard to SageMaker Studio using the Quick start:\n",
    "* Open the AWS Console for your account.\n",
    "* Look for \"Amazon SageMaker\" and click on it.\n",
    "* Choose \"Amazon SageMaker Studio\" at the top left of the page.\n",
    "\n",
    "![screen2](images/screen0_2.png)\n",
    "\n",
    "* On the Amazon SageMaker Studio Control Panel, under \"Get started\", choose \"Quick start\".\n",
    "    * For \"User name\", keep the default name or create a new name. The name can be up to 63 characters. Valid characters: A-Z, a-z, 0-9, and - (hyphen).\n",
    "    * For Execution role, choose \"Create a new role\", the Create an IAM role dialog opens. For S3 buckets you can choose \"None\".\n",
    "    * Choose \"Create role\". Amazon SageMaker creates a new IAM role with the AmazonSageMakerFullAccess policy attached.\n",
    "    * Choose \"Submit\".\n",
    "* On the Amazon SageMaker Studio Control Panel, under Studio Summary, wait for \"Status\" to change to \"Ready\".\n",
    "\n",
    "![screen0](images/screen0_0.png)\n",
    "\n",
    "* When \"Status\" is \"Ready\", the user name that you specified is enabled and chosen. The Add user and Delete user buttons, and the \"Open Studio\" link are also enabled.\n",
    "* Choose \"Open Studio\". The Amazon SageMaker Studio loading page displays. When Studio opens you can start using it *(this can take a few mins the first time)*.\n",
    "\n",
    "    > Now that you've onboarded to Amazon SageMaker Studio, in the future you can directly use the following steps to access Studio:\n",
    "    > * Open the Amazon SageMaker console.\n",
    "    > * Choose \"Amazon SageMaker Studio\" at the top left of the page.\n",
    "    > * On the Amazon SageMaker Studio Control Panel, choose your user name and then choose \"Open Studio\".\n",
    "\n",
    "![screen1](images/screen0_1.png)"
   ]
  },
  {
   "cell_type": "markdown",
   "metadata": {},
   "source": [
    "### **2. Working with Amazon SageMaker Autopilot in Studio**\n",
    "\n",
    "> Note SageMaker Autopilot can be used either from the graphical interface via the SageMaker Studio Launcher, or with code via the SageMaker SDK. In the following steps we will follow the SDK alternative.\n",
    "\n",
    "Now that your SageMaker Studio is open, you will get the notebooks that we will be using and follow the steps on these.\n",
    "\n",
    "* If not open already, create a new Studio Launcher tab by going to \"File\"->\"New Launcher\".\n",
    "\n",
    "![screen3](screen3.png)\n",
    "\n",
    "* Click on \"Image Terminal\" to open a new terminal tab.\n",
    "* Copy-paste the following command in the terminal and hit enter. This will clone this repository to your Studio local environment.\n",
    "    ``` javascript\n",
    "    git clone https://github.com/rodzanto/cookie-predict\n",
    "    ```\n",
    "\n",
    "![screen4](screen4.png)\n",
    "\n",
    "* In the left menu go to the \"File Browser\" (folder icon at the top-left).\n",
    "* Double click the folder called *\"cookie-predict\"*, then double-click the notebook *\"sagemaker_autopilot_direct_maketing.ipynb\"*. The notebook will open on a new tab.\n",
    "* In the select kernel pop-up, select \"Python (Data Science)\".\n",
    "\n",
    "![screen5](screen5.png)\n",
    "\n",
    "* Now **read** and follow the cells in the notebook one by one.\n",
    "    > If you are new to Jupyter notebooks, you can run the notebook document step-by-step (one cell a time) by pressing \"shift\" + \"enter\". Note:\n",
    "    > * While a cell is running it will show an asterix \"*\" next to it\n",
    "    > * When the cell execution completes it will show the execution number"
   ]
  }
 ],
 "metadata": {
  "instance_type": "ml.t3.medium",
  "kernelspec": {
   "display_name": "Python 3 (Data Science)",
   "language": "python",
   "name": "python3__SAGEMAKER_INTERNAL__arn:aws:sagemaker:eu-west-1:470317259841:image/datascience-1.0"
  },
  "language_info": {
   "codemirror_mode": {
    "name": "ipython",
    "version": 3
   },
   "file_extension": ".py",
   "mimetype": "text/x-python",
   "name": "python",
   "nbconvert_exporter": "python",
   "pygments_lexer": "ipython3",
   "version": "3.7.10"
  }
 },
 "nbformat": 4,
 "nbformat_minor": 4
}
